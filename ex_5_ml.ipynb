{
  "nbformat": 4,
  "nbformat_minor": 0,
  "metadata": {
    "colab": {
      "name": "ex_5_ml.ipynb",
      "provenance": [],
      "collapsed_sections": [],
      "authorship_tag": "ABX9TyO2NwqrTXeo8bd86yS8FtdC",
      "include_colab_link": true
    },
    "kernelspec": {
      "name": "python3",
      "display_name": "Python 3"
    },
    "accelerator": "GPU"
  },
  "cells": [
    {
      "cell_type": "markdown",
      "metadata": {
        "id": "view-in-github",
        "colab_type": "text"
      },
      "source": [
        "<a href=\"https://colab.research.google.com/github/gadididi/ex4_ML/blob/master/ex_5_ml.ipynb\" target=\"_parent\"><img src=\"https://colab.research.google.com/assets/colab-badge.svg\" alt=\"Open In Colab\"/></a>"
      ]
    },
    {
      "cell_type": "code",
      "metadata": {
        "colab": {
          "base_uri": "https://localhost:8080/"
        },
        "id": "0qaKfrSodn4y",
        "outputId": "f80e75f6-483f-423e-d8bf-35cd98cde47f"
      },
      "source": [
        "!nvidia-smi"
      ],
      "execution_count": null,
      "outputs": [
        {
          "output_type": "stream",
          "text": [
            "Thu Jan  7 20:08:25 2021       \n",
            "+-----------------------------------------------------------------------------+\n",
            "| NVIDIA-SMI 460.27.04    Driver Version: 418.67       CUDA Version: 10.1     |\n",
            "|-------------------------------+----------------------+----------------------+\n",
            "| GPU  Name        Persistence-M| Bus-Id        Disp.A | Volatile Uncorr. ECC |\n",
            "| Fan  Temp  Perf  Pwr:Usage/Cap|         Memory-Usage | GPU-Util  Compute M. |\n",
            "|                               |                      |               MIG M. |\n",
            "|===============================+======================+======================|\n",
            "|   0  Tesla T4            Off  | 00000000:00:04.0 Off |                    0 |\n",
            "| N/A   69C    P0    32W /  70W |    227MiB / 15079MiB |      0%      Default |\n",
            "|                               |                      |                 ERR! |\n",
            "+-------------------------------+----------------------+----------------------+\n",
            "                                                                               \n",
            "+-----------------------------------------------------------------------------+\n",
            "| Processes:                                                                  |\n",
            "|  GPU   GI   CI        PID   Type   Process name                  GPU Memory |\n",
            "|        ID   ID                                                   Usage      |\n",
            "|=============================================================================|\n",
            "|  No running processes found                                                 |\n",
            "+-----------------------------------------------------------------------------+\n"
          ],
          "name": "stdout"
        }
      ]
    },
    {
      "cell_type": "code",
      "metadata": {
        "colab": {
          "base_uri": "https://localhost:8080/",
          "height": 35
        },
        "id": "etmrmvYwDfBa",
        "outputId": "adc6e699-3493-41ed-afb8-a023d35a38eb"
      },
      "source": [
        "# check if you run on GPU. Should print '/device:GPU:0'\r\n",
        "import tensorflow as tf \r\n",
        "tf.test.gpu_device_name()"
      ],
      "execution_count": null,
      "outputs": [
        {
          "output_type": "execute_result",
          "data": {
            "application/vnd.google.colaboratory.intrinsic+json": {
              "type": "string"
            },
            "text/plain": [
              "''"
            ]
          },
          "metadata": {
            "tags": []
          },
          "execution_count": 2
        }
      ]
    },
    {
      "cell_type": "code",
      "metadata": {
        "colab": {
          "base_uri": "https://localhost:8080/"
        },
        "id": "6O7kU_dkPQEh",
        "outputId": "8cc02b70-acc4-4ade-c73f-e9a41c2561c9"
      },
      "source": [
        "# Load the Drive helper and mount\r\n",
        "from google.colab import drive\r\n",
        "drive.mount('/content/drive')"
      ],
      "execution_count": null,
      "outputs": [
        {
          "output_type": "stream",
          "text": [
            "Mounted at /content/drive\n"
          ],
          "name": "stdout"
        }
      ]
    },
    {
      "cell_type": "code",
      "metadata": {
        "colab": {
          "base_uri": "https://localhost:8080/"
        },
        "id": "2vPIgZkuP-qX",
        "outputId": "ed10393a-b756-467a-b524-1d39656c7f9b"
      },
      "source": [
        "!ls \"/content/drive/My Drive\""
      ],
      "execution_count": null,
      "outputs": [
        {
          "output_type": "stream",
          "text": [
            "'0_New Doc 2019-01-17 00.08.42.pdf'\n",
            "'0_הוכחות 2.1.pdf'\n",
            " 20180610_204358.jpg\n",
            " 20180629_151923.jpg\n",
            "'AbstractArtDrawing (1).java'\n",
            " AbstractArtDrawing.java\n",
            " acc\n",
            " ass2.zip\n",
            " ass3\n",
            " ass4\n",
            " ass5\n",
            " ass6\n",
            " ass7\n",
            "'Ball (1).java'\n",
            " Ball.java\n",
            " biuoop.xml\n",
            " Block.java\n",
            "'books_data.rar (Unzipped Files)'\n",
            " BouncingBallAnimation.java\n",
            " checkstyle-5.7-all.jar\n",
            " Classroom\n",
            "'Colab Notebooks'\n",
            " Collidable.java\n",
            " CollisionInfo.java\n",
            " DJI_0256.JPG\n",
            " DJI_0257.JPG\n",
            " DJI_0262.JPG\n",
            " DJI_0263.JPG\n",
            " DJI_0264.JPG\n",
            " DJI_0277.JPG\n",
            " DJI_0320.JPG\n",
            " DJI_0321.JPG\n",
            " DJI_0332.JPG\n",
            " DJI_0339.JPG\n",
            "'ex1 (1).js'\n",
            "'ex1 (2).js'\n",
            " ex1.js\n",
            " ex5_ml\n",
            " Frame.java\n",
            " frozen_inference_graph.pb\n",
            " GameEnvironment.java\n",
            " GeometryTester.java\n",
            "'How to get started with Drive.pdf'\n",
            "'HW2.zip (Unzipped Files)'\n",
            "'input-output examples.rar (Unzipped Files)'\n",
            "'Line (1).java'\n",
            " Line.java\n",
            " makefile\n",
            " MultipleBouncingBallsAnimation.java\n",
            " MultipleFramesBouncingBallsAnimation.java\n",
            "'My Drive'\n",
            "'Non personalized recommenders.rar (Unzipped Files)'\n",
            "'Point (1).java'\n",
            " Point.java\n",
            " Rectangle.java\n",
            "'Screenshot from 2020-02-10 12-44-40.png'\n",
            " Test.java\n",
            "'Velocity (1).java'\n",
            " Velocity.java\n",
            " yolov3\n",
            " yolov4\n",
            "'גיליון ציונים-גדי.pdf'\n",
            "'דידי גדי 27.09.2016.doc'\n",
            "'דידי גדי 27.09.2016.doc.gdoc'\n",
            "'כל ההרצאות עם הערות.pdf'\n",
            " מונחה\n",
            "'מחברת קורס - ספרות האגדה לאור המקורות.docx'\n",
            "'סיכום תכנות מתקדם 1 הרצאות.pdf'\n",
            "'סיכום תכנות מתקדם.pdf'\n",
            "'עמוס דידי יוני 2014.pdf'\n"
          ],
          "name": "stdout"
        }
      ]
    },
    {
      "cell_type": "code",
      "metadata": {
        "colab": {
          "base_uri": "https://localhost:8080/"
        },
        "id": "KFQEzTznQOVR",
        "outputId": "bdde3c7e-711f-442a-89dd-76440404f8d0"
      },
      "source": [
        "# check all files to run located in ex5_ml folder.\r\n",
        "! cd \"/content/drive/MyDrive/ex5_ml\"\r\n",
        "! ls \"/content/drive/MyDrive/ex5_ml\""
      ],
      "execution_count": null,
      "outputs": [
        {
          "output_type": "stream",
          "text": [
            "cnn.py\t gcommand_dataset.py  short_train  tmp_group_creator.py\n",
            "ex_5.py  __pycache__\t      short_valid\n"
          ],
          "name": "stdout"
        }
      ]
    },
    {
      "cell_type": "code",
      "metadata": {
        "colab": {
          "base_uri": "https://localhost:8080/"
        },
        "id": "lzSwcGlxWOXE",
        "outputId": "8258777c-b7af-4421-e0f9-4408876bfa38"
      },
      "source": [
        "# install pre requrment \r\n",
        "!pip install SoundFile"
      ],
      "execution_count": null,
      "outputs": [
        {
          "output_type": "stream",
          "text": [
            "Collecting SoundFile\n",
            "  Downloading https://files.pythonhosted.org/packages/eb/f2/3cbbbf3b96fb9fa91582c438b574cff3f45b29c772f94c400e2c99ef5db9/SoundFile-0.10.3.post1-py2.py3-none-any.whl\n",
            "Requirement already satisfied: cffi>=1.0 in /usr/local/lib/python3.6/dist-packages (from SoundFile) (1.14.4)\n",
            "Requirement already satisfied: pycparser in /usr/local/lib/python3.6/dist-packages (from cffi>=1.0->SoundFile) (2.20)\n",
            "Installing collected packages: SoundFile\n",
            "Successfully installed SoundFile-0.10.3.post1\n"
          ],
          "name": "stdout"
        }
      ]
    },
    {
      "cell_type": "code",
      "metadata": {
        "colab": {
          "base_uri": "https://localhost:8080/"
        },
        "id": "pPogVK3zZTct",
        "outputId": "fa9bb6ef-fb99-46c0-ec57-dafac1083fbb"
      },
      "source": [
        "!python3 /content/drive/MyDrive/ex5_ml/ex_5.py"
      ],
      "execution_count": null,
      "outputs": [
        {
          "output_type": "stream",
          "text": [
            "Finish create loaders\n",
            "epoch number:  1\n",
            "hi\n",
            "Traceback (most recent call last):\n",
            "  File \"/content/drive/MyDrive/ex5_ml/ex_5.py\", line 70, in <module>\n",
            "    main()\n",
            "  File \"/content/drive/MyDrive/ex5_ml/ex_5.py\", line 65, in main\n",
            "    run_model(train_loader, val_loader)\n",
            "  File \"/content/drive/MyDrive/ex5_ml/ex_5.py\", line 50, in run_model\n",
            "    train(train_loader)\n",
            "  File \"/content/drive/MyDrive/ex5_ml/ex_5.py\", line 21, in train\n",
            "    for batch_idx, (data_, labels) in enumerate(train_loader):\n",
            "  File \"/usr/local/lib/python3.6/dist-packages/torch/utils/data/dataloader.py\", line 435, in __next__\n",
            "    data = self._next_data()\n",
            "  File \"/usr/local/lib/python3.6/dist-packages/torch/utils/data/dataloader.py\", line 475, in _next_data\n",
            "    data = self._dataset_fetcher.fetch(index)  # may raise StopIteration\n",
            "  File \"/usr/local/lib/python3.6/dist-packages/torch/utils/data/_utils/fetch.py\", line 44, in fetch\n",
            "    data = [self.dataset[idx] for idx in possibly_batched_index]\n",
            "  File \"/usr/local/lib/python3.6/dist-packages/torch/utils/data/_utils/fetch.py\", line 44, in <listcomp>\n",
            "    data = [self.dataset[idx] for idx in possibly_batched_index]\n",
            "  File \"/content/drive/MyDrive/ex5_ml/gcommand_dataset.py\", line 138, in __getitem__\n",
            "    spect = self.loader(path, self.window_size, self.window_stride, self.window_type, self.normalize, self.max_len)\n",
            "  File \"/content/drive/MyDrive/ex5_ml/gcommand_dataset.py\", line 44, in spect_loader\n",
            "    y, sr = sf.read(path)\n",
            "  File \"/usr/local/lib/python3.6/dist-packages/soundfile.py\", line 257, in read\n",
            "    subtype, endian, format, closefd) as f:\n",
            "  File \"/usr/local/lib/python3.6/dist-packages/soundfile.py\", line 629, in __init__\n",
            "    self._file = self._open(file, mode_int, closefd)\n",
            "  File \"/usr/local/lib/python3.6/dist-packages/soundfile.py\", line 696, in __setattr__\n",
            "    def __setattr__(self, name, value):\n",
            "KeyboardInterrupt\n"
          ],
          "name": "stdout"
        }
      ]
    }
  ]
}